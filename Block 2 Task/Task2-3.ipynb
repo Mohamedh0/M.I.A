{
 "cells": [
  {
   "cell_type": "markdown",
   "id": "28d34a28",
   "metadata": {},
   "source": [
    "# **Numeric Vector Similarity**"
   ]
  },
  {
   "cell_type": "code",
   "execution_count": 23,
   "id": "c9ebd621",
   "metadata": {},
   "outputs": [],
   "source": [
    "import numpy as np\n",
    "from scipy.stats import pearsonr\n",
    "import gensim.downloader as downloader"
   ]
  },
  {
   "cell_type": "markdown",
   "id": "841120df",
   "metadata": {},
   "source": [
    "- **Cosine similarity** : is a measure of similarity between two non-zero vectors in an inner product space **(Higher is better)**\n",
    "- **Euclidean Distance** : the straight-line distance between two points in Euclidean space **(Lower is better)**\n",
    "- **Manhattan Distance** : a way to calculate the distance between two points in a grid-like path **(Lower is better)**\n",
    "- **Pearson Correlation** : is a statistical measure that quantifies the linear relationship between two continuous variables **(Higher is better)**"
   ]
  },
  {
   "cell_type": "code",
   "execution_count": 13,
   "id": "85eb8b95",
   "metadata": {},
   "outputs": [],
   "source": [
    "hassan = np.array([9, 8, 7, 6, 7, 8, 6]) \n",
    "red_bull = np.array([10, 9, 6, 7, 6, 9, 5] )\n",
    "ferrari = np.array([9, 7, 6, 6, 7, 7, 5]) \n",
    "mercedes = np.array([8, 6, 8, 9, 9, 5, 9])"
   ]
  },
  {
   "cell_type": "code",
   "execution_count": 14,
   "id": "9efca145",
   "metadata": {},
   "outputs": [],
   "source": [
    "def cosine_similarity(v1, v2):\n",
    "    return np.dot(v1, v2) / (np.linalg.norm(v1) * np.linalg.norm(v2))"
   ]
  },
  {
   "cell_type": "code",
   "execution_count": 15,
   "id": "4f08687c",
   "metadata": {},
   "outputs": [
    {
     "name": "stdout",
     "output_type": "stream",
     "text": [
      "Cosine Similarity:\n",
      "Red Bull: 0.9918\n",
      "Ferrari: 0.9973\n",
      "Mercedes: 0.9564\n"
     ]
    }
   ],
   "source": [
    "print(\"Cosine Similarity:\")\n",
    "print(f\"Red Bull: {cosine_similarity(hassan, red_bull):.4f}\")\n",
    "print(f\"Ferrari: {cosine_similarity(hassan, ferrari):.4f}\")\n",
    "print(f\"Mercedes: {cosine_similarity(hassan, mercedes):.4f}\")"
   ]
  },
  {
   "cell_type": "code",
   "execution_count": 16,
   "id": "5436366b",
   "metadata": {},
   "outputs": [],
   "source": [
    "def euclidean_dist(v1, v2):\n",
    "    return np.linalg.norm(v1 - v2)"
   ]
  },
  {
   "cell_type": "code",
   "execution_count": 17,
   "id": "d7e1fe5e",
   "metadata": {},
   "outputs": [
    {
     "name": "stdout",
     "output_type": "stream",
     "text": [
      "Euclidean Distance:\n",
      "Red Bull: 2.6458\n",
      "Ferrari: 2.0000\n",
      "Mercedes: 6.0828\n"
     ]
    }
   ],
   "source": [
    "print(\"Euclidean Distance:\")\n",
    "print(f\"Red Bull: {euclidean_dist(hassan, red_bull):.4f}\")\n",
    "print(f\"Ferrari: {euclidean_dist(hassan, ferrari):.4f}\")\n",
    "print(f\"Mercedes: {euclidean_dist(hassan, mercedes):.4f}\")"
   ]
  },
  {
   "cell_type": "code",
   "execution_count": 18,
   "id": "85b8cbc6",
   "metadata": {},
   "outputs": [
    {
     "name": "stdout",
     "output_type": "stream",
     "text": [
      "\n",
      "Pearson Correlation:\n",
      "Red Bull: 0.8773\n",
      "Ferrari: 0.9047\n",
      "Mercedes: -0.6005\n"
     ]
    }
   ],
   "source": [
    "print(\"\\nPearson Correlation:\")\n",
    "print(f\"Red Bull: {pearsonr(hassan, red_bull)[0]:.4f}\")\n",
    "print(f\"Ferrari: {pearsonr(hassan, ferrari)[0]:.4f}\")\n",
    "print(f\"Mercedes: {pearsonr(hassan, mercedes)[0]:.4f}\")"
   ]
  },
  {
   "cell_type": "code",
   "execution_count": 19,
   "id": "08610257",
   "metadata": {},
   "outputs": [],
   "source": [
    "def manhattan_dist(v1, v2):\n",
    "    return np.sum(np.abs(v1 - v2))"
   ]
  },
  {
   "cell_type": "code",
   "execution_count": 21,
   "id": "04ee12e6",
   "metadata": {},
   "outputs": [
    {
     "name": "stdout",
     "output_type": "stream",
     "text": [
      "\n",
      "Manhattan Distance:\n",
      "Red Bull: 7.0000\n",
      "Ferrari: 4.0000\n",
      "Mercedes: 15.0000\n"
     ]
    }
   ],
   "source": [
    "print(\"\\nManhattan Distance:\")\n",
    "print(f\"Red Bull: {manhattan_dist(hassan, red_bull):.4f}\")\n",
    "print(f\"Ferrari: {manhattan_dist(hassan, ferrari):.4f}\")\n",
    "print(f\"Mercedes: {manhattan_dist(hassan, mercedes):.4f}\")"
   ]
  },
  {
   "cell_type": "markdown",
   "id": "dc25a88b",
   "metadata": {},
   "source": [
    "- **Based on the numerical analysis, Ferrari is the best team for Hassan.**"
   ]
  },
  {
   "cell_type": "markdown",
   "id": "3028e77e",
   "metadata": {},
   "source": [
    "# **Word Embedding Analysis**"
   ]
  },
  {
   "cell_type": "code",
   "execution_count": 25,
   "id": "b1bb12c4",
   "metadata": {},
   "outputs": [
    {
     "name": "stdout",
     "output_type": "stream",
     "text": [
      "[==================================================] 100.0% 128.1/128.1MB downloaded\n"
     ]
    }
   ],
   "source": [
    "# Load pre-trained GloVe model\n",
    "glove = downloader.load('glove-wiki-gigaword-100')"
   ]
  },
  {
   "cell_type": "code",
   "execution_count": 26,
   "id": "47e5aa51",
   "metadata": {},
   "outputs": [],
   "source": [
    "hassan_traits = [\n",
    "    \"speed\", \"aggression\", \"adaptability\", \"technical skill\",\n",
    "    \"teamwork\", \"risk-taking\", \"consistency\"\n",
    "    ]\n",
    "\n",
    "red_bull_traits = [\n",
    "    \"speed\", \"aggression\", \"adaptability\", \"technical skill\",\n",
    "    \"teamwork\", \"risk-taking\", \"inconsistency\"\n",
    "    ]\n",
    "\n",
    "ferrari_traits = [\n",
    "    \"passion\", \"emotion\", \"adaptability\", \"technical skill\",\n",
    "    \"teamwork\", \"risk-taking\", \"inconsistency\"\n",
    "    ]\n",
    "\n",
    "mercedes_traits = [\n",
    "    \"precision\", \"discipline\", \"adaptability\", \"technical skill\",\n",
    "    \"teamwork\", \"control\", \"consistency\"\n",
    "    ]"
   ]
  },
  {
   "cell_type": "code",
   "execution_count": 29,
   "id": "8e03f8da",
   "metadata": {},
   "outputs": [],
   "source": [
    "def get_embeddings(word):\n",
    "    try:\n",
    "        return glove[word]\n",
    "    except KeyError:\n",
    "        return glove['unknown']\n",
    "\n",
    "def semantic_similarity(v1, v2):\n",
    "    vec1 = [get_embeddings(word) for word in v1]\n",
    "    vec2 = [get_embeddings(word) for word in v2]\n",
    "    similarities = [cosine_similarity(w1,w2) for w1,w2 in zip(vec1,vec2)]\n",
    "    return np.mean(similarities)"
   ]
  },
  {
   "cell_type": "code",
   "execution_count": 30,
   "id": "70d83062",
   "metadata": {},
   "outputs": [
    {
     "name": "stdout",
     "output_type": "stream",
     "text": [
      "\n",
      "Semantic Similarity:\n",
      "Red Bull: 0.9380\n",
      "Ferrari: 0.7442\n",
      "Mercedes: 0.6635\n"
     ]
    }
   ],
   "source": [
    "print(\"\\nSemantic Similarity:\")\n",
    "print(f\"Red Bull: {semantic_similarity(hassan_traits, red_bull_traits):.4f}\")\n",
    "print(f\"Ferrari: {semantic_similarity(hassan_traits, ferrari_traits):.4f}\")\n",
    "print(f\"Mercedes: {semantic_similarity(hassan_traits, mercedes_traits):.4f}\")"
   ]
  },
  {
   "cell_type": "markdown",
   "id": "f301e252",
   "metadata": {},
   "source": [
    "- **Based on Embeddings the Red Bull is the Best**"
   ]
  },
  {
   "cell_type": "markdown",
   "id": "b8f849af",
   "metadata": {},
   "source": [
    "### **This difference occurs because**\n",
    "- **The numerical approach focuses on quantitative alignment of scores**\n",
    "- **The semantic approach captures deeper meaning relationships between traits**"
   ]
  }
 ],
 "metadata": {
  "kernelspec": {
   "display_name": "Python 3",
   "language": "python",
   "name": "python3"
  },
  "language_info": {
   "codemirror_mode": {
    "name": "ipython",
    "version": 3
   },
   "file_extension": ".py",
   "mimetype": "text/x-python",
   "name": "python",
   "nbconvert_exporter": "python",
   "pygments_lexer": "ipython3",
   "version": "3.10.11"
  }
 },
 "nbformat": 4,
 "nbformat_minor": 5
}
