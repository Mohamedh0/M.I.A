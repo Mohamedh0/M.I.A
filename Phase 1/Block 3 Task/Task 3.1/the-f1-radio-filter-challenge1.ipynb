{
 "cells": [
  {
   "cell_type": "markdown",
   "metadata": {},
   "source": [
    "# **Important Libraries**"
   ]
  },
  {
   "cell_type": "code",
   "execution_count": 1,
   "metadata": {
    "execution": {
     "iopub.execute_input": "2025-08-08T07:34:52.829846Z",
     "iopub.status.busy": "2025-08-08T07:34:52.829220Z",
     "iopub.status.idle": "2025-08-08T07:34:53.823706Z",
     "shell.execute_reply": "2025-08-08T07:34:53.822840Z",
     "shell.execute_reply.started": "2025-08-08T07:34:52.829817Z"
    },
    "trusted": true
   },
   "outputs": [],
   "source": [
    "import numpy as np\n",
    "import pandas as pd\n",
    "from sklearn.model_selection import train_test_split\n",
    "from sklearn.preprocessing import StandardScaler"
   ]
  },
  {
   "cell_type": "markdown",
   "metadata": {},
   "source": [
    "# **Load and Preprocess the dataset**"
   ]
  },
  {
   "cell_type": "code",
   "execution_count": 2,
   "metadata": {
    "execution": {
     "iopub.execute_input": "2025-08-08T07:34:55.307595Z",
     "iopub.status.busy": "2025-08-08T07:34:55.307194Z",
     "iopub.status.idle": "2025-08-08T07:34:55.375196Z",
     "shell.execute_reply": "2025-08-08T07:34:55.374408Z",
     "shell.execute_reply.started": "2025-08-08T07:34:55.307570Z"
    },
    "trusted": true
   },
   "outputs": [
    {
     "data": {
      "text/html": [
       "<div>\n",
       "<style scoped>\n",
       "    .dataframe tbody tr th:only-of-type {\n",
       "        vertical-align: middle;\n",
       "    }\n",
       "\n",
       "    .dataframe tbody tr th {\n",
       "        vertical-align: top;\n",
       "    }\n",
       "\n",
       "    .dataframe thead th {\n",
       "        text-align: right;\n",
       "    }\n",
       "</style>\n",
       "<table border=\"1\" class=\"dataframe\">\n",
       "  <thead>\n",
       "    <tr style=\"text-align: right;\">\n",
       "      <th></th>\n",
       "      <th>message_id</th>\n",
       "      <th>num_links</th>\n",
       "      <th>num_words</th>\n",
       "      <th>has_offer</th>\n",
       "      <th>sender_score</th>\n",
       "      <th>all_caps</th>\n",
       "      <th>is_spam</th>\n",
       "    </tr>\n",
       "  </thead>\n",
       "  <tbody>\n",
       "    <tr>\n",
       "      <th>0</th>\n",
       "      <td>1</td>\n",
       "      <td>3</td>\n",
       "      <td>98</td>\n",
       "      <td>1</td>\n",
       "      <td>0.718607</td>\n",
       "      <td>0</td>\n",
       "      <td>0</td>\n",
       "    </tr>\n",
       "    <tr>\n",
       "      <th>1</th>\n",
       "      <td>2</td>\n",
       "      <td>0</td>\n",
       "      <td>170</td>\n",
       "      <td>0</td>\n",
       "      <td>0.698901</td>\n",
       "      <td>1</td>\n",
       "      <td>0</td>\n",
       "    </tr>\n",
       "    <tr>\n",
       "      <th>2</th>\n",
       "      <td>3</td>\n",
       "      <td>0</td>\n",
       "      <td>38</td>\n",
       "      <td>0</td>\n",
       "      <td>0.620466</td>\n",
       "      <td>0</td>\n",
       "      <td>0</td>\n",
       "    </tr>\n",
       "    <tr>\n",
       "      <th>3</th>\n",
       "      <td>4</td>\n",
       "      <td>0</td>\n",
       "      <td>116</td>\n",
       "      <td>0</td>\n",
       "      <td>0.701755</td>\n",
       "      <td>0</td>\n",
       "      <td>0</td>\n",
       "    </tr>\n",
       "    <tr>\n",
       "      <th>4</th>\n",
       "      <td>5</td>\n",
       "      <td>3</td>\n",
       "      <td>89</td>\n",
       "      <td>1</td>\n",
       "      <td>0.583621</td>\n",
       "      <td>1</td>\n",
       "      <td>1</td>\n",
       "    </tr>\n",
       "  </tbody>\n",
       "</table>\n",
       "</div>"
      ],
      "text/plain": [
       "   message_id  num_links  num_words  has_offer  sender_score  all_caps  \\\n",
       "0           1          3         98          1      0.718607         0   \n",
       "1           2          0        170          0      0.698901         1   \n",
       "2           3          0         38          0      0.620466         0   \n",
       "3           4          0        116          0      0.701755         0   \n",
       "4           5          3         89          1      0.583621         1   \n",
       "\n",
       "   is_spam  \n",
       "0        0  \n",
       "1        0  \n",
       "2        0  \n",
       "3        0  \n",
       "4        1  "
      ]
     },
     "execution_count": 2,
     "metadata": {},
     "output_type": "execute_result"
    }
   ],
   "source": [
    "df = pd.read_csv(\"/kaggle/input/f1-spam-detection/train.csv\")\n",
    "df.head()"
   ]
  },
  {
   "cell_type": "code",
   "execution_count": 3,
   "metadata": {
    "execution": {
     "iopub.execute_input": "2025-08-08T07:34:55.696463Z",
     "iopub.status.busy": "2025-08-08T07:34:55.696148Z",
     "iopub.status.idle": "2025-08-08T07:34:55.723109Z",
     "shell.execute_reply": "2025-08-08T07:34:55.722183Z",
     "shell.execute_reply.started": "2025-08-08T07:34:55.696438Z"
    },
    "trusted": true
   },
   "outputs": [
    {
     "name": "stdout",
     "output_type": "stream",
     "text": [
      "<class 'pandas.core.frame.DataFrame'>\n",
      "RangeIndex: 19100 entries, 0 to 19099\n",
      "Data columns (total 7 columns):\n",
      " #   Column        Non-Null Count  Dtype  \n",
      "---  ------        --------------  -----  \n",
      " 0   message_id    19100 non-null  int64  \n",
      " 1   num_links     19100 non-null  int64  \n",
      " 2   num_words     19100 non-null  int64  \n",
      " 3   has_offer     19100 non-null  int64  \n",
      " 4   sender_score  19100 non-null  float64\n",
      " 5   all_caps      19100 non-null  int64  \n",
      " 6   is_spam       19100 non-null  int64  \n",
      "dtypes: float64(1), int64(6)\n",
      "memory usage: 1.0 MB\n"
     ]
    }
   ],
   "source": [
    "df.info()"
   ]
  },
  {
   "cell_type": "code",
   "execution_count": 4,
   "metadata": {
    "execution": {
     "iopub.execute_input": "2025-08-08T07:34:56.091340Z",
     "iopub.status.busy": "2025-08-08T07:34:56.091013Z",
     "iopub.status.idle": "2025-08-08T07:34:56.098998Z",
     "shell.execute_reply": "2025-08-08T07:34:56.098182Z",
     "shell.execute_reply.started": "2025-08-08T07:34:56.091315Z"
    },
    "trusted": true
   },
   "outputs": [
    {
     "data": {
      "text/plain": [
       "message_id      0\n",
       "num_links       0\n",
       "num_words       0\n",
       "has_offer       0\n",
       "sender_score    0\n",
       "all_caps        0\n",
       "is_spam         0\n",
       "dtype: int64"
      ]
     },
     "execution_count": 4,
     "metadata": {},
     "output_type": "execute_result"
    }
   ],
   "source": [
    "# Check for null values\n",
    "df.isna().sum()"
   ]
  },
  {
   "cell_type": "code",
   "execution_count": 5,
   "metadata": {
    "execution": {
     "iopub.execute_input": "2025-08-08T07:34:56.477238Z",
     "iopub.status.busy": "2025-08-08T07:34:56.476904Z",
     "iopub.status.idle": "2025-08-08T07:34:56.487512Z",
     "shell.execute_reply": "2025-08-08T07:34:56.486578Z",
     "shell.execute_reply.started": "2025-08-08T07:34:56.477215Z"
    },
    "trusted": true
   },
   "outputs": [
    {
     "data": {
      "text/plain": [
       "0"
      ]
     },
     "execution_count": 5,
     "metadata": {},
     "output_type": "execute_result"
    }
   ],
   "source": [
    "# Check for duplicates\n",
    "df.duplicated().sum()"
   ]
  },
  {
   "cell_type": "code",
   "execution_count": 6,
   "metadata": {
    "execution": {
     "iopub.execute_input": "2025-08-08T07:34:56.808964Z",
     "iopub.status.busy": "2025-08-08T07:34:56.808203Z",
     "iopub.status.idle": "2025-08-08T07:34:56.817908Z",
     "shell.execute_reply": "2025-08-08T07:34:56.816762Z",
     "shell.execute_reply.started": "2025-08-08T07:34:56.808928Z"
    },
    "trusted": true
   },
   "outputs": [
    {
     "data": {
      "text/plain": [
       "is_spam\n",
       "0    17354\n",
       "1     1746\n",
       "Name: count, dtype: int64"
      ]
     },
     "execution_count": 6,
     "metadata": {},
     "output_type": "execute_result"
    }
   ],
   "source": [
    "df['is_spam'].value_counts() # Dataset is imbalanced"
   ]
  },
  {
   "cell_type": "code",
   "execution_count": 7,
   "metadata": {
    "execution": {
     "iopub.execute_input": "2025-08-08T07:34:59.289313Z",
     "iopub.status.busy": "2025-08-08T07:34:59.289029Z",
     "iopub.status.idle": "2025-08-08T07:34:59.295925Z",
     "shell.execute_reply": "2025-08-08T07:34:59.294910Z",
     "shell.execute_reply.started": "2025-08-08T07:34:59.289291Z"
    },
    "trusted": true
   },
   "outputs": [],
   "source": [
    "# Drop unnecessary columns\n",
    "df.drop(['message_id'], axis=1,inplace=True)"
   ]
  },
  {
   "cell_type": "code",
   "execution_count": 8,
   "metadata": {
    "execution": {
     "iopub.execute_input": "2025-08-08T07:34:59.639754Z",
     "iopub.status.busy": "2025-08-08T07:34:59.639166Z",
     "iopub.status.idle": "2025-08-08T07:34:59.658699Z",
     "shell.execute_reply": "2025-08-08T07:34:59.657877Z",
     "shell.execute_reply.started": "2025-08-08T07:34:59.639727Z"
    },
    "trusted": true
   },
   "outputs": [
    {
     "data": {
      "text/html": [
       "<div>\n",
       "<style scoped>\n",
       "    .dataframe tbody tr th:only-of-type {\n",
       "        vertical-align: middle;\n",
       "    }\n",
       "\n",
       "    .dataframe tbody tr th {\n",
       "        vertical-align: top;\n",
       "    }\n",
       "\n",
       "    .dataframe thead th {\n",
       "        text-align: right;\n",
       "    }\n",
       "</style>\n",
       "<table border=\"1\" class=\"dataframe\">\n",
       "  <thead>\n",
       "    <tr style=\"text-align: right;\">\n",
       "      <th></th>\n",
       "      <th>num_links</th>\n",
       "      <th>num_words</th>\n",
       "      <th>has_offer</th>\n",
       "      <th>sender_score</th>\n",
       "      <th>all_caps</th>\n",
       "      <th>is_spam</th>\n",
       "      <th>links_per_word</th>\n",
       "    </tr>\n",
       "  </thead>\n",
       "  <tbody>\n",
       "    <tr>\n",
       "      <th>0</th>\n",
       "      <td>3</td>\n",
       "      <td>98</td>\n",
       "      <td>1</td>\n",
       "      <td>0.718607</td>\n",
       "      <td>0</td>\n",
       "      <td>0</td>\n",
       "      <td>0.030303</td>\n",
       "    </tr>\n",
       "    <tr>\n",
       "      <th>1</th>\n",
       "      <td>0</td>\n",
       "      <td>170</td>\n",
       "      <td>0</td>\n",
       "      <td>0.698901</td>\n",
       "      <td>1</td>\n",
       "      <td>0</td>\n",
       "      <td>0.000000</td>\n",
       "    </tr>\n",
       "    <tr>\n",
       "      <th>2</th>\n",
       "      <td>0</td>\n",
       "      <td>38</td>\n",
       "      <td>0</td>\n",
       "      <td>0.620466</td>\n",
       "      <td>0</td>\n",
       "      <td>0</td>\n",
       "      <td>0.000000</td>\n",
       "    </tr>\n",
       "    <tr>\n",
       "      <th>3</th>\n",
       "      <td>0</td>\n",
       "      <td>116</td>\n",
       "      <td>0</td>\n",
       "      <td>0.701755</td>\n",
       "      <td>0</td>\n",
       "      <td>0</td>\n",
       "      <td>0.000000</td>\n",
       "    </tr>\n",
       "    <tr>\n",
       "      <th>4</th>\n",
       "      <td>3</td>\n",
       "      <td>89</td>\n",
       "      <td>1</td>\n",
       "      <td>0.583621</td>\n",
       "      <td>1</td>\n",
       "      <td>1</td>\n",
       "      <td>0.033333</td>\n",
       "    </tr>\n",
       "  </tbody>\n",
       "</table>\n",
       "</div>"
      ],
      "text/plain": [
       "   num_links  num_words  has_offer  sender_score  all_caps  is_spam  \\\n",
       "0          3         98          1      0.718607         0        0   \n",
       "1          0        170          0      0.698901         1        0   \n",
       "2          0         38          0      0.620466         0        0   \n",
       "3          0        116          0      0.701755         0        0   \n",
       "4          3         89          1      0.583621         1        1   \n",
       "\n",
       "   links_per_word  \n",
       "0        0.030303  \n",
       "1        0.000000  \n",
       "2        0.000000  \n",
       "3        0.000000  \n",
       "4        0.033333  "
      ]
     },
     "execution_count": 8,
     "metadata": {},
     "output_type": "execute_result"
    }
   ],
   "source": [
    "# Feature Engineering\n",
    "df['links_per_word'] = df['num_links'] / (df['num_words'] + 1)\n",
    "df.head()"
   ]
  },
  {
   "cell_type": "code",
   "execution_count": 9,
   "metadata": {
    "execution": {
     "iopub.execute_input": "2025-08-08T07:34:59.971776Z",
     "iopub.status.busy": "2025-08-08T07:34:59.971474Z",
     "iopub.status.idle": "2025-08-08T07:35:00.000906Z",
     "shell.execute_reply": "2025-08-08T07:35:00.000058Z",
     "shell.execute_reply.started": "2025-08-08T07:34:59.971753Z"
    },
    "trusted": true
   },
   "outputs": [
    {
     "data": {
      "text/html": [
       "<div>\n",
       "<style scoped>\n",
       "    .dataframe tbody tr th:only-of-type {\n",
       "        vertical-align: middle;\n",
       "    }\n",
       "\n",
       "    .dataframe tbody tr th {\n",
       "        vertical-align: top;\n",
       "    }\n",
       "\n",
       "    .dataframe thead th {\n",
       "        text-align: right;\n",
       "    }\n",
       "</style>\n",
       "<table border=\"1\" class=\"dataframe\">\n",
       "  <thead>\n",
       "    <tr style=\"text-align: right;\">\n",
       "      <th></th>\n",
       "      <th>num_links</th>\n",
       "      <th>num_words</th>\n",
       "      <th>has_offer</th>\n",
       "      <th>sender_score</th>\n",
       "      <th>all_caps</th>\n",
       "      <th>is_spam</th>\n",
       "      <th>links_per_word</th>\n",
       "    </tr>\n",
       "  </thead>\n",
       "  <tbody>\n",
       "    <tr>\n",
       "      <th>count</th>\n",
       "      <td>19100.000000</td>\n",
       "      <td>19100.000000</td>\n",
       "      <td>19100.000000</td>\n",
       "      <td>19100.000000</td>\n",
       "      <td>19100.000000</td>\n",
       "      <td>19100.000000</td>\n",
       "      <td>19100.000000</td>\n",
       "    </tr>\n",
       "    <tr>\n",
       "      <th>mean</th>\n",
       "      <td>1.498272</td>\n",
       "      <td>109.651780</td>\n",
       "      <td>0.303298</td>\n",
       "      <td>0.694174</td>\n",
       "      <td>0.097853</td>\n",
       "      <td>0.091414</td>\n",
       "      <td>0.018992</td>\n",
       "    </tr>\n",
       "    <tr>\n",
       "      <th>std</th>\n",
       "      <td>1.221115</td>\n",
       "      <td>51.974463</td>\n",
       "      <td>0.459695</td>\n",
       "      <td>0.188285</td>\n",
       "      <td>0.297124</td>\n",
       "      <td>0.288204</td>\n",
       "      <td>0.023753</td>\n",
       "    </tr>\n",
       "    <tr>\n",
       "      <th>min</th>\n",
       "      <td>0.000000</td>\n",
       "      <td>20.000000</td>\n",
       "      <td>0.000000</td>\n",
       "      <td>0.000000</td>\n",
       "      <td>0.000000</td>\n",
       "      <td>0.000000</td>\n",
       "      <td>0.000000</td>\n",
       "    </tr>\n",
       "    <tr>\n",
       "      <th>25%</th>\n",
       "      <td>1.000000</td>\n",
       "      <td>65.000000</td>\n",
       "      <td>0.000000</td>\n",
       "      <td>0.566990</td>\n",
       "      <td>0.000000</td>\n",
       "      <td>0.000000</td>\n",
       "      <td>0.005435</td>\n",
       "    </tr>\n",
       "    <tr>\n",
       "      <th>50%</th>\n",
       "      <td>1.000000</td>\n",
       "      <td>110.000000</td>\n",
       "      <td>0.000000</td>\n",
       "      <td>0.699204</td>\n",
       "      <td>0.000000</td>\n",
       "      <td>0.000000</td>\n",
       "      <td>0.012346</td>\n",
       "    </tr>\n",
       "    <tr>\n",
       "      <th>75%</th>\n",
       "      <td>2.000000</td>\n",
       "      <td>155.000000</td>\n",
       "      <td>1.000000</td>\n",
       "      <td>0.834200</td>\n",
       "      <td>0.000000</td>\n",
       "      <td>0.000000</td>\n",
       "      <td>0.024390</td>\n",
       "    </tr>\n",
       "    <tr>\n",
       "      <th>max</th>\n",
       "      <td>9.000000</td>\n",
       "      <td>199.000000</td>\n",
       "      <td>1.000000</td>\n",
       "      <td>1.000000</td>\n",
       "      <td>1.000000</td>\n",
       "      <td>1.000000</td>\n",
       "      <td>0.318182</td>\n",
       "    </tr>\n",
       "  </tbody>\n",
       "</table>\n",
       "</div>"
      ],
      "text/plain": [
       "          num_links     num_words     has_offer  sender_score      all_caps  \\\n",
       "count  19100.000000  19100.000000  19100.000000  19100.000000  19100.000000   \n",
       "mean       1.498272    109.651780      0.303298      0.694174      0.097853   \n",
       "std        1.221115     51.974463      0.459695      0.188285      0.297124   \n",
       "min        0.000000     20.000000      0.000000      0.000000      0.000000   \n",
       "25%        1.000000     65.000000      0.000000      0.566990      0.000000   \n",
       "50%        1.000000    110.000000      0.000000      0.699204      0.000000   \n",
       "75%        2.000000    155.000000      1.000000      0.834200      0.000000   \n",
       "max        9.000000    199.000000      1.000000      1.000000      1.000000   \n",
       "\n",
       "            is_spam  links_per_word  \n",
       "count  19100.000000    19100.000000  \n",
       "mean       0.091414        0.018992  \n",
       "std        0.288204        0.023753  \n",
       "min        0.000000        0.000000  \n",
       "25%        0.000000        0.005435  \n",
       "50%        0.000000        0.012346  \n",
       "75%        0.000000        0.024390  \n",
       "max        1.000000        0.318182  "
      ]
     },
     "execution_count": 9,
     "metadata": {},
     "output_type": "execute_result"
    }
   ],
   "source": [
    "df.describe()"
   ]
  },
  {
   "cell_type": "code",
   "execution_count": 10,
   "metadata": {
    "execution": {
     "iopub.execute_input": "2025-08-08T07:35:00.310485Z",
     "iopub.status.busy": "2025-08-08T07:35:00.310189Z",
     "iopub.status.idle": "2025-08-08T07:35:00.329448Z",
     "shell.execute_reply": "2025-08-08T07:35:00.328603Z",
     "shell.execute_reply.started": "2025-08-08T07:35:00.310460Z"
    },
    "trusted": true
   },
   "outputs": [
    {
     "data": {
      "text/html": [
       "<div>\n",
       "<style scoped>\n",
       "    .dataframe tbody tr th:only-of-type {\n",
       "        vertical-align: middle;\n",
       "    }\n",
       "\n",
       "    .dataframe tbody tr th {\n",
       "        vertical-align: top;\n",
       "    }\n",
       "\n",
       "    .dataframe thead th {\n",
       "        text-align: right;\n",
       "    }\n",
       "</style>\n",
       "<table border=\"1\" class=\"dataframe\">\n",
       "  <thead>\n",
       "    <tr style=\"text-align: right;\">\n",
       "      <th></th>\n",
       "      <th>num_links</th>\n",
       "      <th>num_words</th>\n",
       "      <th>has_offer</th>\n",
       "      <th>sender_score</th>\n",
       "      <th>all_caps</th>\n",
       "      <th>is_spam</th>\n",
       "      <th>links_per_word</th>\n",
       "    </tr>\n",
       "  </thead>\n",
       "  <tbody>\n",
       "    <tr>\n",
       "      <th>num_links</th>\n",
       "      <td>1.000000</td>\n",
       "      <td>0.003194</td>\n",
       "      <td>-0.004057</td>\n",
       "      <td>-0.002424</td>\n",
       "      <td>0.000682</td>\n",
       "      <td>0.322846</td>\n",
       "      <td>0.657699</td>\n",
       "    </tr>\n",
       "    <tr>\n",
       "      <th>num_words</th>\n",
       "      <td>0.003194</td>\n",
       "      <td>1.000000</td>\n",
       "      <td>-0.005518</td>\n",
       "      <td>0.004276</td>\n",
       "      <td>0.001451</td>\n",
       "      <td>0.000849</td>\n",
       "      <td>-0.488613</td>\n",
       "    </tr>\n",
       "    <tr>\n",
       "      <th>has_offer</th>\n",
       "      <td>-0.004057</td>\n",
       "      <td>-0.005518</td>\n",
       "      <td>1.000000</td>\n",
       "      <td>-0.002169</td>\n",
       "      <td>-0.001098</td>\n",
       "      <td>0.368503</td>\n",
       "      <td>-0.006697</td>\n",
       "    </tr>\n",
       "    <tr>\n",
       "      <th>sender_score</th>\n",
       "      <td>-0.002424</td>\n",
       "      <td>0.004276</td>\n",
       "      <td>-0.002169</td>\n",
       "      <td>1.000000</td>\n",
       "      <td>0.018184</td>\n",
       "      <td>-0.088210</td>\n",
       "      <td>-0.007697</td>\n",
       "    </tr>\n",
       "    <tr>\n",
       "      <th>all_caps</th>\n",
       "      <td>0.000682</td>\n",
       "      <td>0.001451</td>\n",
       "      <td>-0.001098</td>\n",
       "      <td>0.018184</td>\n",
       "      <td>1.000000</td>\n",
       "      <td>0.207979</td>\n",
       "      <td>-0.002816</td>\n",
       "    </tr>\n",
       "    <tr>\n",
       "      <th>is_spam</th>\n",
       "      <td>0.322846</td>\n",
       "      <td>0.000849</td>\n",
       "      <td>0.368503</td>\n",
       "      <td>-0.088210</td>\n",
       "      <td>0.207979</td>\n",
       "      <td>1.000000</td>\n",
       "      <td>0.210271</td>\n",
       "    </tr>\n",
       "    <tr>\n",
       "      <th>links_per_word</th>\n",
       "      <td>0.657699</td>\n",
       "      <td>-0.488613</td>\n",
       "      <td>-0.006697</td>\n",
       "      <td>-0.007697</td>\n",
       "      <td>-0.002816</td>\n",
       "      <td>0.210271</td>\n",
       "      <td>1.000000</td>\n",
       "    </tr>\n",
       "  </tbody>\n",
       "</table>\n",
       "</div>"
      ],
      "text/plain": [
       "                num_links  num_words  has_offer  sender_score  all_caps  \\\n",
       "num_links        1.000000   0.003194  -0.004057     -0.002424  0.000682   \n",
       "num_words        0.003194   1.000000  -0.005518      0.004276  0.001451   \n",
       "has_offer       -0.004057  -0.005518   1.000000     -0.002169 -0.001098   \n",
       "sender_score    -0.002424   0.004276  -0.002169      1.000000  0.018184   \n",
       "all_caps         0.000682   0.001451  -0.001098      0.018184  1.000000   \n",
       "is_spam          0.322846   0.000849   0.368503     -0.088210  0.207979   \n",
       "links_per_word   0.657699  -0.488613  -0.006697     -0.007697 -0.002816   \n",
       "\n",
       "                 is_spam  links_per_word  \n",
       "num_links       0.322846        0.657699  \n",
       "num_words       0.000849       -0.488613  \n",
       "has_offer       0.368503       -0.006697  \n",
       "sender_score   -0.088210       -0.007697  \n",
       "all_caps        0.207979       -0.002816  \n",
       "is_spam         1.000000        0.210271  \n",
       "links_per_word  0.210271        1.000000  "
      ]
     },
     "execution_count": 10,
     "metadata": {},
     "output_type": "execute_result"
    }
   ],
   "source": [
    "df.corr()"
   ]
  },
  {
   "cell_type": "code",
   "execution_count": 11,
   "metadata": {
    "execution": {
     "iopub.execute_input": "2025-08-08T07:35:02.500497Z",
     "iopub.status.busy": "2025-08-08T07:35:02.500212Z",
     "iopub.status.idle": "2025-08-08T07:35:02.507107Z",
     "shell.execute_reply": "2025-08-08T07:35:02.506206Z",
     "shell.execute_reply.started": "2025-08-08T07:35:02.500475Z"
    },
    "trusted": true
   },
   "outputs": [],
   "source": [
    "X = df.drop(['is_spam'], axis=1).values\n",
    "y = df['is_spam'].values"
   ]
  },
  {
   "cell_type": "code",
   "execution_count": 12,
   "metadata": {
    "execution": {
     "iopub.execute_input": "2025-08-08T07:35:02.844576Z",
     "iopub.status.busy": "2025-08-08T07:35:02.844290Z",
     "iopub.status.idle": "2025-08-08T07:35:02.850590Z",
     "shell.execute_reply": "2025-08-08T07:35:02.849719Z",
     "shell.execute_reply.started": "2025-08-08T07:35:02.844554Z"
    },
    "trusted": true
   },
   "outputs": [
    {
     "data": {
      "text/plain": [
       "array([[3.00000000e+00, 9.80000000e+01, 1.00000000e+00, 7.18607000e-01,\n",
       "        0.00000000e+00, 3.03030303e-02],\n",
       "       [0.00000000e+00, 1.70000000e+02, 0.00000000e+00, 6.98901226e-01,\n",
       "        1.00000000e+00, 0.00000000e+00],\n",
       "       [0.00000000e+00, 3.80000000e+01, 0.00000000e+00, 6.20465534e-01,\n",
       "        0.00000000e+00, 0.00000000e+00],\n",
       "       ...,\n",
       "       [0.00000000e+00, 1.45000000e+02, 0.00000000e+00, 6.00568655e-01,\n",
       "        0.00000000e+00, 0.00000000e+00],\n",
       "       [0.00000000e+00, 1.78000000e+02, 0.00000000e+00, 6.75468409e-01,\n",
       "        0.00000000e+00, 0.00000000e+00],\n",
       "       [0.00000000e+00, 8.00000000e+01, 0.00000000e+00, 6.97732338e-01,\n",
       "        0.00000000e+00, 0.00000000e+00]])"
      ]
     },
     "execution_count": 12,
     "metadata": {},
     "output_type": "execute_result"
    }
   ],
   "source": [
    "X"
   ]
  },
  {
   "cell_type": "code",
   "execution_count": 13,
   "metadata": {
    "execution": {
     "iopub.execute_input": "2025-08-08T07:35:03.157700Z",
     "iopub.status.busy": "2025-08-08T07:35:03.157174Z",
     "iopub.status.idle": "2025-08-08T07:35:03.163099Z",
     "shell.execute_reply": "2025-08-08T07:35:03.162393Z",
     "shell.execute_reply.started": "2025-08-08T07:35:03.157673Z"
    },
    "trusted": true
   },
   "outputs": [
    {
     "data": {
      "text/plain": [
       "array([0, 0, 0, ..., 0, 0, 0])"
      ]
     },
     "execution_count": 13,
     "metadata": {},
     "output_type": "execute_result"
    }
   ],
   "source": [
    "y"
   ]
  },
  {
   "cell_type": "code",
   "execution_count": 14,
   "metadata": {
    "execution": {
     "iopub.execute_input": "2025-08-08T07:35:04.927919Z",
     "iopub.status.busy": "2025-08-08T07:35:04.927225Z",
     "iopub.status.idle": "2025-08-08T07:35:04.940651Z",
     "shell.execute_reply": "2025-08-08T07:35:04.939787Z",
     "shell.execute_reply.started": "2025-08-08T07:35:04.927853Z"
    },
    "trusted": true
   },
   "outputs": [],
   "source": [
    "# Stratified train-validation split\n",
    "X_train, X_val, y_train, y_val = train_test_split(X, y, test_size=0.2, stratify=y, random_state=42)"
   ]
  },
  {
   "cell_type": "code",
   "execution_count": 15,
   "metadata": {
    "execution": {
     "iopub.execute_input": "2025-08-08T07:35:05.269051Z",
     "iopub.status.busy": "2025-08-08T07:35:05.268460Z",
     "iopub.status.idle": "2025-08-08T07:35:05.274210Z",
     "shell.execute_reply": "2025-08-08T07:35:05.273359Z",
     "shell.execute_reply.started": "2025-08-08T07:35:05.269021Z"
    },
    "trusted": true
   },
   "outputs": [
    {
     "name": "stdout",
     "output_type": "stream",
     "text": [
      "Training set class distribution: [13883  1397]\n",
      "Validation set class distribution: [3471  349]\n"
     ]
    }
   ],
   "source": [
    "# Verify stratification\n",
    "print(\"Training set class distribution:\", np.bincount(y_train))\n",
    "print(\"Validation set class distribution:\", np.bincount(y_val))"
   ]
  },
  {
   "cell_type": "code",
   "execution_count": 16,
   "metadata": {
    "execution": {
     "iopub.execute_input": "2025-08-08T07:35:06.222646Z",
     "iopub.status.busy": "2025-08-08T07:35:06.222135Z",
     "iopub.status.idle": "2025-08-08T07:35:06.235757Z",
     "shell.execute_reply": "2025-08-08T07:35:06.234925Z",
     "shell.execute_reply.started": "2025-08-08T07:35:06.222599Z"
    },
    "trusted": true
   },
   "outputs": [],
   "source": [
    "scaler = scaler = StandardScaler()\n",
    "X_train_scaled = scaler.fit_transform(X_train)\n",
    "X_val_scaled = scaler.transform(X_val)"
   ]
  },
  {
   "cell_type": "markdown",
   "metadata": {},
   "source": [
    "# **Logistic Regression**"
   ]
  },
  {
   "cell_type": "code",
   "execution_count": 17,
   "metadata": {
    "execution": {
     "iopub.execute_input": "2025-08-08T07:35:07.837419Z",
     "iopub.status.busy": "2025-08-08T07:35:07.836492Z",
     "iopub.status.idle": "2025-08-08T07:35:07.851806Z",
     "shell.execute_reply": "2025-08-08T07:35:07.850965Z",
     "shell.execute_reply.started": "2025-08-08T07:35:07.837384Z"
    },
    "trusted": true
   },
   "outputs": [],
   "source": [
    "class LogisticRegression:\n",
    "    def __init__(self, learning_rate=0.01, max_iterations=1000, lambda_reg=0.1,\n",
    "                 reg_type='l2', class_weight=None, batch_size=32, shuffle=True):\n",
    "        # Hyperparameters\n",
    "        self.learning_rate = learning_rate\n",
    "        self.max_iterations = max_iterations\n",
    "        self.lambda_reg = lambda_reg\n",
    "        self.reg_type = reg_type.lower()\n",
    "        self.class_weight = class_weight  # None, 'balanced', or dict\n",
    "        self.batch_size = batch_size      # Mini-batch size\n",
    "        self.shuffle = shuffle            # Shuffle data each epoch\n",
    "\n",
    "        # Model parameters\n",
    "        self.weights = None\n",
    "        self.bias = None\n",
    "\n",
    "    def sigmoid(self, z):\n",
    "        \"\"\"Sigmoid activation with clipping to avoid overflow.\"\"\"\n",
    "        z = np.clip(z, -500, 500)\n",
    "        return 1 / (1 + np.exp(-z))\n",
    "\n",
    "    def log_loss(self, y_true, y_pred):\n",
    "        \"\"\"Binary cross-entropy loss with regularization.\"\"\"\n",
    "        epsilon = 1e-15\n",
    "        y_pred = np.clip(y_pred, epsilon, 1 - epsilon)  # Avoid log(0)\n",
    "        loss = -np.mean(y_true * np.log(y_pred) + (1 - y_true) * np.log(1 - y_pred))\n",
    "\n",
    "        # Add regularization penalty\n",
    "        if self.reg_type == 'l1':\n",
    "            reg_term = self.lambda_reg * np.sum(np.abs(self.weights))\n",
    "        elif self.reg_type == 'l2':\n",
    "            reg_term = self.lambda_reg * np.sum(self.weights ** 2) / 2\n",
    "        else:\n",
    "            raise ValueError(\"reg_type must be 'l1' or 'l2'\")\n",
    "\n",
    "        return loss + reg_term\n",
    "\n",
    "    def _compute_sample_weights(self, y):\n",
    "        \"\"\"Convert class_weight into a weight for each sample.\"\"\"\n",
    "        if self.class_weight == 'balanced':\n",
    "            # Weight inversely proportional to class frequency\n",
    "            classes, counts = np.unique(y, return_counts=True)\n",
    "            total = len(y)\n",
    "            weight_dict = {cls: total / (2 * count) for cls, count in zip(classes, counts)}\n",
    "            return np.array([weight_dict[label] for label in y])\n",
    "\n",
    "        elif isinstance(self.class_weight, dict):\n",
    "            # Manual class weights\n",
    "            return np.array([self.class_weight[label] for label in y])\n",
    "\n",
    "        else:\n",
    "            # No weighting\n",
    "            return np.ones_like(y)\n",
    "\n",
    "    def fit(self, X, y):\n",
    "        \"\"\"Train the logistic regression model using mini-batch gradient descent.\"\"\"\n",
    "        n_samples, n_features = X.shape\n",
    "        self.weights = np.zeros(n_features)\n",
    "        self.bias = 0\n",
    "\n",
    "        sample_weights = self._compute_sample_weights(y)\n",
    "\n",
    "        for _ in range(self.max_iterations):\n",
    "            # Shuffle data each epoch if enabled\n",
    "            if self.shuffle:\n",
    "                indices = np.arange(n_samples)\n",
    "                np.random.shuffle(indices)\n",
    "                X = X[indices]\n",
    "                y = y[indices]\n",
    "                sample_weights = sample_weights[indices]\n",
    "\n",
    "            # Process each mini-batch\n",
    "            for start in range(0, n_samples, self.batch_size):\n",
    "                end = start + self.batch_size\n",
    "                X_batch = X[start:end]\n",
    "                y_batch = y[start:end]\n",
    "                sw_batch = sample_weights[start:end]\n",
    "\n",
    "                # Forward pass\n",
    "                linear_model = np.dot(X_batch, self.weights) + self.bias\n",
    "                y_pred = self.sigmoid(linear_model)\n",
    "\n",
    "                # Compute weighted error\n",
    "                error = y_pred - y_batch\n",
    "                weighted_error = error * sw_batch\n",
    "\n",
    "                # Regularization gradient\n",
    "                if self.reg_type == 'l1':\n",
    "                    reg_grad = self.lambda_reg * np.sign(self.weights)\n",
    "                elif self.reg_type == 'l2':\n",
    "                    reg_grad = self.lambda_reg * self.weights\n",
    "                else:\n",
    "                    raise ValueError(\"reg_type must be 'l1' or 'l2'\")\n",
    "\n",
    "                # Gradients\n",
    "                dw = (1 / len(X_batch)) * np.dot(X_batch.T, weighted_error) + (reg_grad / n_samples)\n",
    "                db = (1 / len(X_batch)) * np.sum(weighted_error)\n",
    "\n",
    "                # Parameter update\n",
    "                self.weights -= self.learning_rate * dw\n",
    "                self.bias -= self.learning_rate * db\n",
    "\n",
    "    def predict_proba(self, X):\n",
    "        \"\"\"Predict probabilities for input samples.\"\"\"\n",
    "        return self.sigmoid(np.dot(X, self.weights) + self.bias)\n",
    "\n",
    "    def predict(self, X, threshold=0.5):\n",
    "        \"\"\"Predict binary class labels based on a threshold.\"\"\"\n",
    "        return (self.predict_proba(X) >= threshold).astype(int)"
   ]
  },
  {
   "cell_type": "code",
   "execution_count": 18,
   "metadata": {
    "execution": {
     "iopub.execute_input": "2025-08-08T07:35:11.425730Z",
     "iopub.status.busy": "2025-08-08T07:35:11.425416Z",
     "iopub.status.idle": "2025-08-08T07:35:11.433751Z",
     "shell.execute_reply": "2025-08-08T07:35:11.432664Z",
     "shell.execute_reply.started": "2025-08-08T07:35:11.425706Z"
    },
    "trusted": true
   },
   "outputs": [],
   "source": [
    "def grid_search(X_train, y_train, X_val, y_val, param_grid):\n",
    "    best_log_loss = float('inf')\n",
    "    best_params = None\n",
    "    best_model = None\n",
    "\n",
    "    # Try every combination of parameters\n",
    "    for lr in param_grid['learning_rate']:\n",
    "        for lam in param_grid['lambda_reg']:\n",
    "            for max_iter in param_grid['max_iterations']:\n",
    "                for reg_type in param_grid['reg_type']:\n",
    "                    for class_weight in param_grid['class_weights']:\n",
    "                        for batch_size in param_grid['batch_size']:\n",
    "\n",
    "                            # Create model with given hyperparameters\n",
    "                            model = LogisticRegression(\n",
    "                                learning_rate=lr,\n",
    "                                max_iterations=max_iter,\n",
    "                                lambda_reg=lam,\n",
    "                                reg_type=reg_type,\n",
    "                                class_weight=class_weight,\n",
    "                                batch_size=batch_size\n",
    "                            )\n",
    "\n",
    "                            # Train model\n",
    "                            model.fit(X_train, y_train)\n",
    "\n",
    "                            # Evaluate on validation set\n",
    "                            y_pred_proba = model.predict_proba(X_val)\n",
    "                            log_loss_val = model.log_loss(y_val, y_pred_proba)\n",
    "\n",
    "                            # Print current combination results\n",
    "                            print(f\"LR: {lr}, Lambda: {lam}, MaxIter: {max_iter}, \"\n",
    "                                  f\"Reg: {reg_type}, Class Weight: {class_weight}, \"\n",
    "                                  f\"Batch: {batch_size}, LogLoss: {log_loss_val:.4f}\")\n",
    "\n",
    "                            # Track best model\n",
    "                            if log_loss_val < best_log_loss:\n",
    "                                best_log_loss = log_loss_val\n",
    "                                best_params = {\n",
    "                                    'learning_rate': lr,\n",
    "                                    'lambda_reg': lam,\n",
    "                                    'max_iterations': max_iter,\n",
    "                                    'reg_type': reg_type,\n",
    "                                    'class_weight': class_weight,\n",
    "                                    'batch_size': batch_size\n",
    "                                }\n",
    "                                best_model = model\n",
    "\n",
    "    return best_model, best_params, best_log_loss"
   ]
  },
  {
   "cell_type": "code",
   "execution_count": null,
   "metadata": {
    "execution": {
     "execution_failed": "2025-08-08T06:37:14.691Z",
     "iopub.execute_input": "2025-08-08T06:20:07.053343Z",
     "iopub.status.busy": "2025-08-08T06:20:07.053004Z"
    },
    "trusted": true
   },
   "outputs": [],
   "source": [
    "param_grid = {\n",
    "    'learning_rate': [ 0.05, 0.01, 0.1,0.2],\n",
    "    'lambda_reg': [ 0.0001, 0.001, 0.01],\n",
    "    'max_iterations': [4000, 5000, 6000],\n",
    "    'reg_type': ['L1','L2'],\n",
    "    'class_weights': [ None, 'balanced', {0: 3, 1: 6}],\n",
    "    'batch_size': [1,16, 32]\n",
    "}\n",
    "\n",
    "best_model, best_params, best_log_loss = grid_search(\n",
    "    X_train_scaled, y_train, X_val_scaled, y_val, param_grid\n",
    ")\n",
    "\n",
    "print(\"\\n Best Parameters:\", best_params)\n",
    "print(f\" Best Validation LogLoss: {best_log_loss:.4f}\")"
   ]
  },
  {
   "cell_type": "code",
   "execution_count": 19,
   "metadata": {
    "execution": {
     "iopub.execute_input": "2025-08-08T06:49:19.524925Z",
     "iopub.status.busy": "2025-08-08T06:49:19.524582Z",
     "iopub.status.idle": "2025-08-08T06:49:19.530261Z",
     "shell.execute_reply": "2025-08-08T06:49:19.529128Z",
     "shell.execute_reply.started": "2025-08-08T06:49:19.524901Z"
    },
    "trusted": true
   },
   "outputs": [],
   "source": [
    "# From previous notebook\n",
    "best_parameters = {'learning_rate': 0.05, 'lambda_reg': 0.0001, 'max_iterations': 6000, 'reg_type': 'L2', 'class_weight': None}\n",
    " "
   ]
  },
  {
   "cell_type": "code",
   "execution_count": 19,
   "metadata": {
    "execution": {
     "iopub.execute_input": "2025-08-08T07:35:17.855545Z",
     "iopub.status.busy": "2025-08-08T07:35:17.855281Z",
     "iopub.status.idle": "2025-08-08T07:41:32.893226Z",
     "shell.execute_reply": "2025-08-08T07:41:32.892367Z",
     "shell.execute_reply.started": "2025-08-08T07:35:17.855526Z"
    },
    "trusted": true
   },
   "outputs": [
    {
     "name": "stdout",
     "output_type": "stream",
     "text": [
      "Log Loss:  0.1622\n"
     ]
    }
   ],
   "source": [
    "model_8 = LogisticRegression(\n",
    "    learning_rate= 0.05,\n",
    "    lambda_reg= 0.0001,\n",
    "    max_iterations= 6000,\n",
    "    reg_type= 'L2',\n",
    "    class_weight= None,\n",
    "    batch_size=8\n",
    ") \n",
    "\n",
    "model_8.fit(X_train_scaled, y_train)\n",
    "\n",
    "y_val_pred_8 = model_8.predict_proba(X_val_scaled)\n",
    "log_loss_8 = model_8.log_loss(y_val, y_val_pred_8)\n",
    "\n",
    "print(f\"Log Loss:  {log_loss_8:.4f}\")"
   ]
  },
  {
   "cell_type": "code",
   "execution_count": 20,
   "metadata": {
    "execution": {
     "iopub.execute_input": "2025-08-08T07:41:32.894544Z",
     "iopub.status.busy": "2025-08-08T07:41:32.894277Z",
     "iopub.status.idle": "2025-08-08T07:44:46.944439Z",
     "shell.execute_reply": "2025-08-08T07:44:46.943670Z",
     "shell.execute_reply.started": "2025-08-08T07:41:32.894522Z"
    },
    "trusted": true
   },
   "outputs": [
    {
     "name": "stdout",
     "output_type": "stream",
     "text": [
      "Log Loss:  0.1635\n"
     ]
    }
   ],
   "source": [
    "model_16 = LogisticRegression(\n",
    "    learning_rate= 0.05,\n",
    "    lambda_reg= 0.0001,\n",
    "    max_iterations= 6000,\n",
    "    reg_type= 'L2',\n",
    "    class_weight= None,\n",
    "    batch_size=16\n",
    ") \n",
    "\n",
    "model_16.fit(X_train_scaled, y_train)\n",
    "\n",
    "y_val_pred_16 = model_16.predict_proba(X_val_scaled)\n",
    "log_loss_16 = model_16.log_loss(y_val, y_val_pred_16)\n",
    "\n",
    "print(f\"Log Loss:  {log_loss_16:.4f}\")"
   ]
  },
  {
   "cell_type": "code",
   "execution_count": 21,
   "metadata": {
    "execution": {
     "iopub.execute_input": "2025-08-08T07:44:46.945734Z",
     "iopub.status.busy": "2025-08-08T07:44:46.945480Z",
     "iopub.status.idle": "2025-08-08T07:46:29.656366Z",
     "shell.execute_reply": "2025-08-08T07:46:29.655437Z",
     "shell.execute_reply.started": "2025-08-08T07:44:46.945714Z"
    },
    "trusted": true
   },
   "outputs": [
    {
     "name": "stdout",
     "output_type": "stream",
     "text": [
      "Log Loss:  0.1620\n"
     ]
    }
   ],
   "source": [
    "model_32 = LogisticRegression(\n",
    "    learning_rate= 0.05,\n",
    "    lambda_reg= 0.0001,\n",
    "    max_iterations= 6000,\n",
    "    reg_type= 'L2',\n",
    "    class_weight= None,\n",
    "    batch_size=32\n",
    ") \n",
    "\n",
    "model_32.fit(X_train_scaled, y_train)\n",
    "\n",
    "y_val_pred_32 = model_32.predict_proba(X_val_scaled)\n",
    "log_loss_32 = model_32.log_loss(y_val, y_val_pred_32)\n",
    "\n",
    "print(f\"Log Loss:  {log_loss_32:.4f}\")"
   ]
  },
  {
   "cell_type": "code",
   "execution_count": 22,
   "metadata": {
    "execution": {
     "iopub.execute_input": "2025-08-08T07:46:48.240403Z",
     "iopub.status.busy": "2025-08-08T07:46:48.239732Z",
     "iopub.status.idle": "2025-08-08T07:47:44.243087Z",
     "shell.execute_reply": "2025-08-08T07:47:44.242187Z",
     "shell.execute_reply.started": "2025-08-08T07:46:48.240367Z"
    },
    "trusted": true
   },
   "outputs": [
    {
     "name": "stdout",
     "output_type": "stream",
     "text": [
      "Log Loss:  0.1619\n"
     ]
    }
   ],
   "source": [
    "model_64 = LogisticRegression(\n",
    "    learning_rate= 0.05,\n",
    "    lambda_reg= 0.0001,\n",
    "    max_iterations= 6000,\n",
    "    reg_type= 'L2',\n",
    "    class_weight= None,\n",
    "    batch_size=64\n",
    ") \n",
    "\n",
    "model_64.fit(X_train_scaled, y_train)\n",
    "\n",
    "y_val_pred_64 = model_64.predict_proba(X_val_scaled)\n",
    "log_loss_64 = model_64.log_loss(y_val, y_val_pred_64)\n",
    "\n",
    "print(f\"Log Loss:  {log_loss_64:.4f}\")"
   ]
  },
  {
   "cell_type": "code",
   "execution_count": 23,
   "metadata": {
    "execution": {
     "iopub.execute_input": "2025-08-08T07:47:44.245193Z",
     "iopub.status.busy": "2025-08-08T07:47:44.244453Z",
     "iopub.status.idle": "2025-08-08T07:48:16.496766Z",
     "shell.execute_reply": "2025-08-08T07:48:16.496066Z",
     "shell.execute_reply.started": "2025-08-08T07:47:44.245162Z"
    },
    "trusted": true
   },
   "outputs": [
    {
     "name": "stdout",
     "output_type": "stream",
     "text": [
      "Log Loss:  0.1618\n"
     ]
    }
   ],
   "source": [
    "model_128 = LogisticRegression(\n",
    "    learning_rate= 0.05,\n",
    "    lambda_reg= 0.0001,\n",
    "    max_iterations= 6000,\n",
    "    reg_type= 'L2',\n",
    "    class_weight= None,\n",
    "    batch_size=128\n",
    ")\n",
    "\n",
    "model_128.fit(X_train_scaled, y_train)\n",
    "\n",
    "y_val_pred_128 = model_128.predict_proba(X_val_scaled)\n",
    "log_loss_128 = model_128.log_loss(y_val, y_val_pred_128)\n",
    "\n",
    "print(f\"Log Loss:  {log_loss_128:.4f}\")"
   ]
  },
  {
   "cell_type": "code",
   "execution_count": 24,
   "metadata": {
    "execution": {
     "iopub.execute_input": "2025-08-08T07:48:38.734603Z",
     "iopub.status.busy": "2025-08-08T07:48:38.733905Z",
     "iopub.status.idle": "2025-08-08T08:35:53.543992Z",
     "shell.execute_reply": "2025-08-08T08:35:53.541802Z",
     "shell.execute_reply.started": "2025-08-08T07:48:38.734574Z"
    },
    "trusted": true
   },
   "outputs": [
    {
     "name": "stdout",
     "output_type": "stream",
     "text": [
      "Log Loss:  0.1800\n"
     ]
    }
   ],
   "source": [
    "model_sgd = LogisticRegression(\n",
    "    learning_rate= 0.05,\n",
    "    lambda_reg= 0.0001,\n",
    "    max_iterations= 6000,\n",
    "    reg_type= 'L2',\n",
    "    class_weight= None,\n",
    "    batch_size=1\n",
    ")\n",
    "\n",
    "model_sgd.fit(X_train_scaled, y_train)\n",
    "\n",
    "y_val_pred_sgd = model_sgd.predict_proba(X_val_scaled)\n",
    "log_loss_sgd = model_sgd.log_loss(y_val, y_val_pred_sgd)\n",
    "\n",
    "print(f\"Log Loss:  {log_loss_sgd:.4f}\")"
   ]
  },
  {
   "cell_type": "code",
   "execution_count": 29,
   "metadata": {
    "execution": {
     "iopub.execute_input": "2025-08-08T08:40:34.327287Z",
     "iopub.status.busy": "2025-08-08T08:40:34.326853Z",
     "iopub.status.idle": "2025-08-08T08:40:34.353171Z",
     "shell.execute_reply": "2025-08-08T08:40:34.352320Z",
     "shell.execute_reply.started": "2025-08-08T08:40:34.327255Z"
    },
    "trusted": true
   },
   "outputs": [
    {
     "data": {
      "text/html": [
       "<div>\n",
       "<style scoped>\n",
       "    .dataframe tbody tr th:only-of-type {\n",
       "        vertical-align: middle;\n",
       "    }\n",
       "\n",
       "    .dataframe tbody tr th {\n",
       "        vertical-align: top;\n",
       "    }\n",
       "\n",
       "    .dataframe thead th {\n",
       "        text-align: right;\n",
       "    }\n",
       "</style>\n",
       "<table border=\"1\" class=\"dataframe\">\n",
       "  <thead>\n",
       "    <tr style=\"text-align: right;\">\n",
       "      <th></th>\n",
       "      <th>message_id</th>\n",
       "      <th>num_links</th>\n",
       "      <th>num_words</th>\n",
       "      <th>has_offer</th>\n",
       "      <th>sender_score</th>\n",
       "      <th>all_caps</th>\n",
       "    </tr>\n",
       "  </thead>\n",
       "  <tbody>\n",
       "    <tr>\n",
       "      <th>0</th>\n",
       "      <td>20000</td>\n",
       "      <td>1</td>\n",
       "      <td>37</td>\n",
       "      <td>0</td>\n",
       "      <td>0.633935</td>\n",
       "      <td>0</td>\n",
       "    </tr>\n",
       "    <tr>\n",
       "      <th>1</th>\n",
       "      <td>20001</td>\n",
       "      <td>0</td>\n",
       "      <td>174</td>\n",
       "      <td>0</td>\n",
       "      <td>0.577815</td>\n",
       "      <td>0</td>\n",
       "    </tr>\n",
       "    <tr>\n",
       "      <th>2</th>\n",
       "      <td>20002</td>\n",
       "      <td>0</td>\n",
       "      <td>116</td>\n",
       "      <td>0</td>\n",
       "      <td>0.396098</td>\n",
       "      <td>0</td>\n",
       "    </tr>\n",
       "    <tr>\n",
       "      <th>3</th>\n",
       "      <td>20003</td>\n",
       "      <td>0</td>\n",
       "      <td>112</td>\n",
       "      <td>0</td>\n",
       "      <td>0.646450</td>\n",
       "      <td>0</td>\n",
       "    </tr>\n",
       "    <tr>\n",
       "      <th>4</th>\n",
       "      <td>20004</td>\n",
       "      <td>2</td>\n",
       "      <td>92</td>\n",
       "      <td>1</td>\n",
       "      <td>0.947398</td>\n",
       "      <td>1</td>\n",
       "    </tr>\n",
       "  </tbody>\n",
       "</table>\n",
       "</div>"
      ],
      "text/plain": [
       "   message_id  num_links  num_words  has_offer  sender_score  all_caps\n",
       "0       20000          1         37          0      0.633935         0\n",
       "1       20001          0        174          0      0.577815         0\n",
       "2       20002          0        116          0      0.396098         0\n",
       "3       20003          0        112          0      0.646450         0\n",
       "4       20004          2         92          1      0.947398         1"
      ]
     },
     "execution_count": 29,
     "metadata": {},
     "output_type": "execute_result"
    }
   ],
   "source": [
    "test = pd.read_csv(\"/kaggle/input/f1-spam-detection/test.csv\")\n",
    "test.head()"
   ]
  },
  {
   "cell_type": "code",
   "execution_count": 30,
   "metadata": {
    "execution": {
     "iopub.execute_input": "2025-08-08T08:40:34.754287Z",
     "iopub.status.busy": "2025-08-08T08:40:34.753870Z",
     "iopub.status.idle": "2025-08-08T08:40:34.765636Z",
     "shell.execute_reply": "2025-08-08T08:40:34.764833Z",
     "shell.execute_reply.started": "2025-08-08T08:40:34.754257Z"
    },
    "trusted": true
   },
   "outputs": [
    {
     "data": {
      "text/plain": [
       "0      20000\n",
       "1      20001\n",
       "2      20002\n",
       "3      20003\n",
       "4      20004\n",
       "       ...  \n",
       "895    20895\n",
       "896    20896\n",
       "897    20897\n",
       "898    20898\n",
       "899    20899\n",
       "Name: message_id, Length: 900, dtype: int64"
      ]
     },
     "execution_count": 30,
     "metadata": {},
     "output_type": "execute_result"
    }
   ],
   "source": [
    "features = test.drop(['message_id'],axis=1)\n",
    "ids = test['message_id']\n",
    "ids"
   ]
  },
  {
   "cell_type": "code",
   "execution_count": 31,
   "metadata": {
    "execution": {
     "iopub.execute_input": "2025-08-08T08:40:37.976921Z",
     "iopub.status.busy": "2025-08-08T08:40:37.976586Z",
     "iopub.status.idle": "2025-08-08T08:40:37.983240Z",
     "shell.execute_reply": "2025-08-08T08:40:37.982329Z",
     "shell.execute_reply.started": "2025-08-08T08:40:37.976899Z"
    },
    "trusted": true
   },
   "outputs": [],
   "source": [
    "features['links_per_word'] = features['num_links'] / (features['num_words'] + 1)"
   ]
  },
  {
   "cell_type": "code",
   "execution_count": 32,
   "metadata": {
    "execution": {
     "iopub.execute_input": "2025-08-08T08:40:38.583042Z",
     "iopub.status.busy": "2025-08-08T08:40:38.582731Z",
     "iopub.status.idle": "2025-08-08T08:40:38.592331Z",
     "shell.execute_reply": "2025-08-08T08:40:38.591480Z",
     "shell.execute_reply.started": "2025-08-08T08:40:38.583015Z"
    },
    "trusted": true
   },
   "outputs": [
    {
     "name": "stderr",
     "output_type": "stream",
     "text": [
      "/usr/local/lib/python3.11/dist-packages/sklearn/base.py:432: UserWarning: X has feature names, but StandardScaler was fitted without feature names\n",
      "  warnings.warn(\n"
     ]
    }
   ],
   "source": [
    "features_scaled = scaler.transform(features)"
   ]
  },
  {
   "cell_type": "code",
   "execution_count": 33,
   "metadata": {
    "execution": {
     "iopub.execute_input": "2025-08-08T08:40:40.486701Z",
     "iopub.status.busy": "2025-08-08T08:40:40.486422Z",
     "iopub.status.idle": "2025-08-08T08:40:40.493049Z",
     "shell.execute_reply": "2025-08-08T08:40:40.492276Z",
     "shell.execute_reply.started": "2025-08-08T08:40:40.486680Z"
    },
    "trusted": true
   },
   "outputs": [
    {
     "data": {
      "text/plain": [
       "array([[-0.40651901, -1.40094477, -0.65955384, -0.32096753, -0.33078237,\n",
       "         0.31583616],\n",
       "       [-1.22512872,  1.23959789, -0.65955384, -0.62052284, -0.33078237,\n",
       "        -0.80432018],\n",
       "       [-1.22512872,  0.12170392, -0.65955384, -1.59048397, -0.33078237,\n",
       "        -0.80432018],\n",
       "       ...,\n",
       "       [-0.40651901,  0.73847301,  1.51617645,  0.26417161, -0.33078237,\n",
       "        -0.51864273],\n",
       "       [ 0.4120907 ,  1.23959789, -0.65955384, -0.60219107,  3.02313574,\n",
       "        -0.31785228],\n",
       "       [ 0.4120907 , -0.398695  , -0.65955384,  1.37254115, -0.33078237,\n",
       "         0.14158962]])"
      ]
     },
     "execution_count": 33,
     "metadata": {},
     "output_type": "execute_result"
    }
   ],
   "source": [
    "features_scaled"
   ]
  },
  {
   "cell_type": "code",
   "execution_count": 34,
   "metadata": {
    "execution": {
     "iopub.execute_input": "2025-08-08T08:40:45.848161Z",
     "iopub.status.busy": "2025-08-08T08:40:45.847881Z",
     "iopub.status.idle": "2025-08-08T08:40:45.861369Z",
     "shell.execute_reply": "2025-08-08T08:40:45.860586Z",
     "shell.execute_reply.started": "2025-08-08T08:40:45.848137Z"
    },
    "trusted": true
   },
   "outputs": [
    {
     "data": {
      "text/plain": [
       "array([1.08739758e-03, 3.21745257e-04, 5.48367045e-04, 2.61390859e-04,\n",
       "       7.64395157e-01, 3.52241147e-04, 6.80061416e-04, 2.23555901e-03,\n",
       "       1.59169230e-02, 4.99768384e-03, 1.77782079e-04, 4.53223088e-02,\n",
       "       3.77546111e-03, 3.06784798e-03, 1.69826370e-02, 3.65416848e-03,\n",
       "       4.64259699e-01, 2.71374588e-03, 2.49897030e-03, 9.73243347e-04,\n",
       "       1.01461258e-03, 1.67108920e-02, 5.22388170e-01, 1.86668257e-02,\n",
       "       6.58128050e-02, 1.97587684e-04, 3.69344433e-02, 1.28914462e-01,\n",
       "       5.49592753e-01, 6.90425169e-03, 2.33056940e-03, 2.62295460e-04,\n",
       "       1.27980011e-02, 4.09818197e-03, 8.35213590e-04, 7.56870833e-01,\n",
       "       1.97345314e-04, 5.31795233e-03, 1.86023533e-03, 1.69475869e-04,\n",
       "       1.90050382e-02, 1.00608379e-03, 9.17746605e-05, 2.39123453e-04,\n",
       "       9.37601341e-01, 6.89552163e-03, 8.24955881e-01, 3.35100165e-02,\n",
       "       2.96670082e-04, 6.77742763e-03, 8.95777574e-04, 1.81791879e-01,\n",
       "       1.64890285e-04, 2.42800041e-03, 1.84049314e-04, 4.55060561e-02,\n",
       "       3.16636105e-01, 3.51327292e-01, 6.78781454e-04, 3.70402116e-04,\n",
       "       1.05226305e-02, 4.90683364e-02, 2.17990237e-02, 7.88824056e-02,\n",
       "       2.40932274e-03, 6.88565379e-03, 4.18223678e-03, 9.31209637e-05,\n",
       "       1.57795266e-03, 6.99818965e-01, 4.04546787e-04, 3.37686087e-04,\n",
       "       2.22820060e-04, 9.23650384e-05, 1.65488440e-01, 9.90211126e-01,\n",
       "       4.91963425e-02, 2.19541919e-03, 4.74842837e-04, 1.29902748e-03,\n",
       "       3.87107132e-03, 1.10027744e-03, 1.20373028e-03, 2.62132611e-03,\n",
       "       3.21739125e-02, 7.74646267e-01, 5.25645974e-03, 5.79936933e-03,\n",
       "       4.72418717e-04, 4.63714016e-04, 3.06272449e-02, 3.50150209e-04,\n",
       "       1.88144563e-04, 1.81760828e-04, 8.00489006e-03, 2.71510641e-04,\n",
       "       3.92188864e-01, 2.13182813e-03, 1.61972813e-03, 7.36354156e-04,\n",
       "       3.12707228e-02, 1.45161550e-03, 8.28407704e-04, 1.31182672e-03,\n",
       "       7.26737697e-03, 7.34793449e-01, 2.29584483e-03, 2.56231255e-03,\n",
       "       4.14088099e-04, 9.45796566e-04, 2.03286810e-04, 2.39959931e-04,\n",
       "       3.67538688e-04, 6.76003197e-03, 1.62024597e-02, 2.69152586e-02,\n",
       "       1.98996486e-02, 4.03435479e-02, 1.39308606e-02, 3.60753939e-01,\n",
       "       9.09275903e-04, 4.68403317e-03, 1.66910307e-04, 9.14498378e-05,\n",
       "       9.37955594e-02, 1.45077549e-03, 6.95588646e-04, 2.69438664e-01,\n",
       "       1.45926200e-03, 4.32063697e-03, 1.39439237e-02, 5.35087671e-02,\n",
       "       8.13597397e-02, 9.11998351e-03, 2.77691348e-03, 1.21739569e-03,\n",
       "       8.36166586e-03, 1.38301183e-02, 7.32053183e-04, 4.75017849e-01,\n",
       "       1.17320185e-01, 7.76913679e-04, 4.76148091e-04, 2.39065996e-01,\n",
       "       9.65125958e-03, 1.04827860e-02, 1.85547034e-03, 1.64443565e-02,\n",
       "       9.24941809e-02, 2.83150772e-02, 1.61988396e-02, 1.66982513e-03,\n",
       "       9.12085560e-03, 8.53942943e-04, 4.97588546e-04, 1.86754562e-04,\n",
       "       3.69366003e-02, 1.56932366e-01, 6.23656649e-02, 5.68328025e-01,\n",
       "       1.47201860e-04, 8.28455965e-04, 8.92608510e-04, 1.14712759e-03,\n",
       "       1.04243798e-03, 7.21682212e-01, 1.07861672e-02, 3.16220528e-02,\n",
       "       1.55022915e-02, 2.20421587e-01, 3.13051608e-03, 8.70756906e-04,\n",
       "       2.70418927e-03, 2.30284352e-02, 6.62734159e-02, 2.08221785e-01,\n",
       "       2.27900793e-02, 6.59645237e-01, 4.92427770e-03, 1.49694416e-02,\n",
       "       4.25146323e-04, 1.28153629e-04, 5.04576674e-03, 5.18724010e-01,\n",
       "       6.06993728e-04, 1.38742388e-01, 2.91840815e-02, 1.49465124e-03,\n",
       "       2.97623417e-02, 2.13995668e-01, 1.02745589e-02, 6.50000790e-01,\n",
       "       3.56363196e-04, 2.69246298e-02, 7.83867825e-04, 1.13135986e-02,\n",
       "       7.97087460e-03, 1.61191527e-04, 5.00790032e-02, 8.79269901e-04,\n",
       "       2.05586331e-03, 2.23948574e-02, 2.55501661e-04, 1.02603543e-01,\n",
       "       2.17090735e-02, 9.92906503e-04, 7.46956118e-01, 3.91463060e-01,\n",
       "       3.31263727e-01, 1.45940060e-04, 7.59591007e-01, 9.80015666e-03,\n",
       "       1.37982511e-02, 4.63949617e-03, 8.24741346e-02, 2.59670864e-01,\n",
       "       1.52398349e-02, 2.58823160e-02, 1.39271513e-02, 3.37367798e-03,\n",
       "       3.91730267e-03, 5.92509578e-04, 6.56302987e-03, 2.32653945e-01,\n",
       "       4.90774058e-01, 4.89408373e-04, 4.11413744e-04, 5.36151222e-04,\n",
       "       7.53014020e-04, 7.34002483e-03, 1.17432816e-02, 7.27616515e-03,\n",
       "       4.19026093e-02, 5.75461934e-03, 2.17734723e-03, 3.05444246e-02,\n",
       "       4.05654516e-04, 2.99565501e-04, 2.31615462e-04, 1.79470009e-02,\n",
       "       5.83991433e-01, 1.93140657e-03, 8.92206696e-04, 1.49254651e-02,\n",
       "       4.95514328e-02, 2.04686741e-02, 2.03405418e-04, 2.18784267e-01,\n",
       "       9.94145828e-02, 1.15329440e-02, 6.69360887e-04, 9.91254317e-02,\n",
       "       2.94445868e-02, 1.43648119e-01, 2.12485457e-03, 3.27509523e-02,\n",
       "       3.07422382e-01, 1.05712516e-03, 7.35269627e-04, 1.01758327e-02,\n",
       "       8.42208734e-01, 3.96183727e-01, 2.91840977e-01, 3.73989196e-02,\n",
       "       2.08376479e-01, 6.00702103e-04, 9.45387267e-04, 1.26936615e-01,\n",
       "       4.58413697e-02, 2.68435699e-04, 1.80697174e-02, 2.72676715e-01,\n",
       "       2.77706188e-03, 2.52116689e-01, 1.23031033e-02, 1.45085471e-03,\n",
       "       6.92885316e-04, 2.28519067e-04, 1.01211676e-03, 6.44550689e-03,\n",
       "       7.04218471e-04, 1.41888238e-04, 7.33214580e-02, 7.69976697e-03,\n",
       "       1.64913906e-03, 3.45278353e-02, 4.19052502e-04, 5.41181536e-04,\n",
       "       1.35719110e-01, 2.79299835e-04, 1.71490844e-02, 3.68676374e-04,\n",
       "       4.20743332e-04, 2.53600609e-02, 3.26960510e-04, 1.01660948e-03,\n",
       "       7.66243540e-04, 1.01953395e-02, 3.44127479e-02, 1.13852303e-01,\n",
       "       4.13325499e-02, 3.43330665e-02, 2.13861609e-01, 7.11056052e-02,\n",
       "       2.13277056e-02, 6.14079707e-02, 1.73627083e-01, 1.79590605e-03,\n",
       "       2.15721295e-02, 1.61908171e-03, 1.59157891e-02, 3.65752395e-04,\n",
       "       1.50111775e-04, 2.64948159e-02, 1.93721459e-04, 9.98551534e-02,\n",
       "       1.03119409e-02, 2.69560325e-02, 3.69788712e-02, 4.63262613e-01,\n",
       "       8.68601419e-03, 2.14465319e-03, 1.13795600e-03, 9.24945988e-04,\n",
       "       3.85144477e-04, 9.37637058e-01, 2.19857563e-04, 9.99525792e-01,\n",
       "       6.44953996e-03, 1.68010912e-01, 3.14507819e-03, 1.41997901e-04,\n",
       "       2.44005541e-02, 8.58321654e-01, 5.09113282e-04, 8.33318439e-03,\n",
       "       7.48658089e-01, 3.36360476e-02, 4.81245739e-04, 3.02340603e-03,\n",
       "       1.78950670e-02, 4.06499204e-04, 5.80085834e-04, 4.90643935e-01,\n",
       "       1.97185187e-04, 7.00886449e-02, 3.07594334e-01, 1.47925765e-03,\n",
       "       3.89800242e-02, 5.16370029e-04, 2.87561974e-01, 3.87859556e-04,\n",
       "       1.15014882e-02, 3.06111061e-04, 2.41725284e-01, 1.82786623e-03,\n",
       "       1.17289984e-01, 6.70494091e-03, 7.64905913e-01, 8.14577248e-01,\n",
       "       7.88212485e-03, 2.69375931e-02, 3.18212827e-04, 5.36433553e-01,\n",
       "       1.02159108e-01, 5.21251285e-02, 2.76927029e-02, 4.80524578e-03,\n",
       "       2.29272989e-01, 2.32907645e-01, 4.77731533e-01, 1.99447156e-03,\n",
       "       3.23016315e-04, 1.20313353e-04, 1.96682042e-04, 9.12913012e-05,\n",
       "       1.79607088e-01, 3.81683362e-01, 5.81830449e-04, 3.50501641e-03,\n",
       "       2.64019443e-04, 3.92941705e-02, 1.40579377e-03, 9.08822882e-02,\n",
       "       1.20920219e-03, 2.48769016e-03, 4.26330059e-03, 2.01400961e-02,\n",
       "       4.93790024e-01, 4.78225949e-02, 1.17644870e-03, 1.73198744e-03,\n",
       "       1.20525708e-04, 3.65592788e-04, 2.80375049e-02, 1.94590346e-01,\n",
       "       8.94802036e-03, 8.91813673e-01, 3.57947945e-02, 6.74111464e-02,\n",
       "       2.42345399e-02, 5.61917818e-04, 7.27275740e-04, 1.44065418e-02,\n",
       "       1.22021566e-01, 8.03283961e-01, 7.01143437e-01, 1.66021028e-01,\n",
       "       1.68734584e-04, 1.17958923e-03, 2.31790171e-01, 2.14889736e-04,\n",
       "       4.37658864e-01, 2.97008069e-03, 9.13188530e-05, 1.61363867e-01,\n",
       "       5.99235264e-01, 1.85721371e-03, 3.53065044e-02, 1.76802885e-03,\n",
       "       1.65792252e-01, 2.11021028e-03, 5.38702136e-04, 3.13071931e-04,\n",
       "       9.67008438e-03, 1.58415049e-03, 2.07029000e-04, 4.68912738e-03,\n",
       "       2.65436616e-03, 4.80260089e-03, 8.49783556e-04, 7.19260074e-01,\n",
       "       4.43786759e-03, 1.18409401e-01, 1.05546346e-02, 3.39317763e-03,\n",
       "       2.84910929e-02, 2.08272230e-03, 2.02686634e-01, 5.69247119e-04,\n",
       "       1.37257085e-03, 2.28132029e-03, 8.07876508e-03, 1.88897660e-01,\n",
       "       4.90207946e-04, 4.05083703e-04, 1.76291257e-03, 2.22237157e-03,\n",
       "       1.50286997e-03, 8.40528232e-04, 1.37202956e-01, 9.74544518e-01,\n",
       "       6.17862366e-04, 2.65032970e-01, 6.86350482e-03, 5.17722147e-01,\n",
       "       8.46344684e-04, 4.86926022e-03, 1.64993069e-03, 1.64630287e-03,\n",
       "       5.67933896e-03, 4.43790115e-04, 1.93144257e-03, 4.74091482e-01,\n",
       "       2.16045247e-03, 2.51978638e-03, 9.80222360e-01, 7.17420184e-04,\n",
       "       6.77212842e-02, 4.21888313e-04, 1.41020570e-03, 7.44533508e-01,\n",
       "       2.48803751e-03, 3.12902192e-04, 2.90891887e-03, 4.80498010e-04,\n",
       "       9.32708141e-01, 3.09412235e-01, 3.93551677e-04, 2.17807337e-04,\n",
       "       6.59377361e-04, 7.04683447e-02, 9.23285053e-04, 1.42869772e-03,\n",
       "       8.65449223e-01, 1.81873210e-02, 1.06416964e-01, 3.84118805e-04,\n",
       "       1.63064967e-01, 3.10110930e-03, 6.57964996e-03, 1.05541248e-02,\n",
       "       1.57454127e-03, 1.56810560e-02, 2.19335615e-03, 2.06492564e-03,\n",
       "       2.29962730e-01, 7.34924500e-01, 2.92982590e-01, 2.15378703e-01,\n",
       "       4.44049021e-01, 5.28758622e-01, 2.55623121e-04, 4.68783522e-01,\n",
       "       1.26104671e-03, 2.28663825e-04, 2.69881959e-02, 1.42440767e-03,\n",
       "       1.38590449e-04, 8.87797955e-02, 5.35373483e-03, 6.48693261e-04,\n",
       "       8.52940471e-03, 2.91733967e-03, 8.12574397e-01, 6.53630681e-01,\n",
       "       1.14473180e-03, 4.81097871e-04, 4.42873136e-01, 7.86756282e-02,\n",
       "       4.07277753e-03, 7.98920414e-04, 5.21508885e-04, 3.13623846e-03,\n",
       "       6.30990585e-03, 5.42716444e-04, 3.11601209e-03, 1.39922135e-02,\n",
       "       3.65952704e-04, 1.34561723e-01, 9.19548450e-05, 1.14516061e-02,\n",
       "       4.12597550e-04, 9.20761318e-01, 2.85943214e-01, 2.38853191e-04,\n",
       "       3.35026740e-03, 1.15719756e-03, 2.12743439e-01, 6.88720171e-03,\n",
       "       8.91173892e-04, 4.34812955e-01, 1.13354475e-02, 3.39363082e-03,\n",
       "       1.16903527e-01, 1.26342398e-04, 2.29965657e-04, 4.07566758e-02,\n",
       "       5.75667391e-02, 7.39350993e-04, 2.72556007e-02, 7.77991347e-03,\n",
       "       9.50247674e-04, 6.13551436e-01, 3.05214962e-01, 5.58898051e-02,\n",
       "       2.15191183e-02, 1.64469425e-04, 5.95364645e-03, 2.41652454e-04,\n",
       "       7.48915046e-04, 1.08227688e-02, 7.37901043e-02, 9.10662568e-04,\n",
       "       3.05847045e-02, 8.33597899e-02, 8.00586321e-04, 1.48490904e-01,\n",
       "       1.11641554e-02, 1.73586198e-03, 2.91764389e-02, 2.00016899e-04,\n",
       "       1.55286122e-01, 4.88962939e-02, 7.46844230e-04, 8.69755656e-03,\n",
       "       9.36337598e-04, 2.33603379e-04, 4.20709053e-04, 4.08958416e-03,\n",
       "       3.44085555e-03, 2.06856823e-01, 2.45754766e-04, 2.59849373e-02,\n",
       "       3.48898347e-01, 9.17123712e-05, 3.79883106e-02, 1.46708255e-03,\n",
       "       7.00309482e-04, 3.62262236e-02, 3.78548917e-01, 5.84437135e-03,\n",
       "       5.24555086e-01, 1.54339958e-01, 1.29534410e-02, 1.48621588e-03,\n",
       "       1.80003311e-02, 2.17943361e-04, 2.78086699e-03, 6.84989827e-04,\n",
       "       2.83651929e-03, 4.53011291e-04, 1.39851033e-02, 2.42937450e-04,\n",
       "       4.45693005e-02, 1.94545782e-01, 2.38007507e-03, 1.56805084e-03,\n",
       "       7.62407059e-04, 1.62123955e-03, 1.15475402e-04, 4.24546783e-04,\n",
       "       1.01603192e-03, 4.51898308e-02, 4.86198682e-04, 2.25916601e-02,\n",
       "       9.12928805e-03, 9.59692082e-03, 5.34917721e-01, 5.36854461e-01,\n",
       "       2.42864705e-03, 6.13667203e-04, 3.65229259e-04, 6.93357519e-02,\n",
       "       6.87225292e-03, 4.62167114e-03, 3.27459458e-03, 8.06477362e-03,\n",
       "       6.87097444e-04, 1.26906297e-02, 5.47752534e-01, 3.07904398e-01,\n",
       "       7.94026086e-04, 6.07155751e-01, 1.83972539e-03, 1.86485125e-01,\n",
       "       1.92738243e-02, 9.26817525e-03, 1.14613138e-03, 9.38007794e-03,\n",
       "       5.00749360e-01, 4.52711842e-01, 1.57671723e-04, 3.63889916e-03,\n",
       "       1.60956928e-04, 1.90452127e-01, 7.23858030e-02, 6.29098991e-02,\n",
       "       3.65850143e-04, 6.50907261e-04, 2.52286241e-03, 5.43033996e-04,\n",
       "       6.87461550e-04, 1.25600565e-03, 4.70807033e-04, 5.25939953e-02,\n",
       "       5.11667530e-02, 3.83344318e-04, 2.31869060e-01, 8.02847160e-04,\n",
       "       3.90254507e-04, 3.87745705e-04, 6.86607664e-03, 1.19480832e-02,\n",
       "       1.11212214e-03, 8.49542945e-02, 3.49858411e-03, 1.88548165e-04,\n",
       "       4.92178819e-04, 1.50243231e-02, 7.47225817e-04, 1.40286305e-02,\n",
       "       1.49040599e-03, 1.07621830e-01, 2.37459503e-02, 5.47405980e-01,\n",
       "       1.72521045e-03, 1.15979665e-03, 1.94920317e-03, 6.54945224e-01,\n",
       "       1.50040755e-02, 1.79085408e-01, 1.68252075e-02, 4.06781215e-04,\n",
       "       1.45486720e-04, 3.05929895e-01, 9.53529725e-04, 6.64078241e-01,\n",
       "       5.86113388e-02, 1.45075852e-03, 2.58338994e-02, 5.37090785e-04,\n",
       "       4.10080803e-04, 1.12332126e-03, 2.64363531e-01, 3.82886430e-04,\n",
       "       1.41171738e-04, 5.94237346e-03, 1.29894651e-04, 2.08418080e-01,\n",
       "       1.39457431e-01, 2.07071583e-04, 1.54817594e-04, 8.60532121e-02,\n",
       "       9.26220068e-02, 3.96141854e-03, 5.00928677e-03, 2.03866465e-03,\n",
       "       2.13700797e-03, 3.14046477e-01, 6.54119178e-04, 2.62478933e-01,\n",
       "       2.37553354e-01, 2.45542157e-03, 7.86397253e-03, 1.01384218e-04,\n",
       "       1.07983801e-04, 2.23102096e-01, 5.49122687e-04, 5.00234669e-04,\n",
       "       4.25647104e-04, 1.05025308e-03, 6.05780819e-04, 1.62754886e-04,\n",
       "       4.85796374e-02, 1.12651211e-02, 4.98365567e-03, 1.88875521e-03,\n",
       "       1.62951523e-02, 1.68292117e-03, 7.10075513e-04, 1.11014641e-01,\n",
       "       6.91690016e-01, 3.20817453e-04, 2.37282408e-04, 1.84101061e-03,\n",
       "       1.30809126e-04, 8.45373857e-03, 3.58554343e-03, 2.70591680e-03,\n",
       "       9.24138266e-05, 4.30815518e-01, 1.06295307e-03, 6.55506351e-01,\n",
       "       3.59332501e-01, 1.58695076e-03, 9.76665306e-04, 1.72614948e-03,\n",
       "       1.49017303e-02, 5.05205442e-03, 8.46718931e-04, 5.73530560e-03,\n",
       "       1.38669499e-03, 1.69856293e-04, 1.00520506e-01, 1.91999297e-01,\n",
       "       1.01038883e-02, 1.56388546e-03, 9.18500324e-04, 1.88166652e-03,\n",
       "       1.75197987e-04, 7.85149429e-01, 5.92635604e-02, 3.65559928e-04,\n",
       "       3.77315192e-03, 2.43641695e-01, 6.29119110e-02, 1.16818262e-03,\n",
       "       7.91607085e-03, 6.17022189e-02, 5.56325986e-03, 4.38275902e-03,\n",
       "       1.62264871e-01, 2.49617008e-01, 5.87431687e-02, 1.00659019e-01,\n",
       "       9.40809386e-01, 1.15932736e-02, 1.51886943e-04, 1.35057142e-01,\n",
       "       1.72760103e-03, 1.01915807e-04, 9.29626561e-03, 3.73556638e-01,\n",
       "       1.17209834e-02, 2.69331224e-04, 1.01749570e-03, 2.79346847e-03,\n",
       "       1.06160132e-04, 1.45563533e-01, 8.91787826e-04, 2.10464511e-01,\n",
       "       9.81978389e-01, 6.93034665e-03, 6.86607664e-03, 9.61247051e-01,\n",
       "       2.50670083e-04, 5.11340958e-03, 7.59282820e-01, 6.51776875e-04,\n",
       "       1.19995284e-03, 2.13862933e-01, 5.55855578e-03, 2.81740440e-01,\n",
       "       5.19048497e-03, 3.33042040e-02, 9.70047381e-04, 1.80449959e-03,\n",
       "       7.80008775e-03, 9.00952243e-04, 6.90114858e-03, 9.16991177e-04,\n",
       "       2.49425483e-01, 5.32318273e-01, 7.94333656e-04, 2.36132858e-02,\n",
       "       3.18396717e-01, 6.88930264e-01, 4.14336177e-04, 3.26528328e-03,\n",
       "       2.70068833e-02, 9.34943509e-03, 7.12587918e-04, 1.53125951e-03,\n",
       "       2.84272754e-03, 9.14636366e-05, 3.86443375e-02, 2.77433036e-02,\n",
       "       6.56038596e-04, 3.23646334e-02, 1.97551032e-03, 1.36019274e-02,\n",
       "       6.85739856e-04, 3.02705910e-04, 1.07026435e-01, 2.74948894e-03,\n",
       "       4.24639994e-03, 9.90854662e-02, 1.74917302e-03, 1.60291962e-03,\n",
       "       4.05013160e-01, 4.84550634e-01, 1.42041193e-03, 1.22412910e-02,\n",
       "       1.44709322e-03, 1.65241177e-04, 4.53816466e-01, 5.19027147e-03,\n",
       "       3.50509443e-04, 2.84774322e-04, 8.49567908e-04, 7.83367395e-04,\n",
       "       3.81334162e-04, 9.03545820e-03, 1.11086875e-03, 1.60001196e-04,\n",
       "       6.10102523e-04, 1.30716661e-03, 6.28942028e-04, 1.59467119e-02,\n",
       "       7.47134543e-04, 4.88737565e-04, 4.87087137e-04, 5.95552396e-03,\n",
       "       1.71744115e-03, 3.65630536e-04, 2.69360287e-02, 4.17448182e-02,\n",
       "       1.70726501e-02, 7.43218316e-02, 1.08610157e-01, 7.82370405e-04,\n",
       "       1.48441072e-02, 5.31752912e-01, 1.75079205e-03, 3.19267641e-03,\n",
       "       6.80415681e-04, 4.47460307e-01, 3.87797005e-02, 5.49628250e-04,\n",
       "       4.03784889e-01, 3.46422713e-02, 1.18709662e-03, 6.50342432e-03,\n",
       "       4.37183152e-02, 1.07489278e-03, 7.11501630e-04, 1.61931909e-03,\n",
       "       9.06956776e-04, 1.59998921e-03, 4.48373539e-01, 2.61590772e-02,\n",
       "       1.04667059e-03, 9.29462491e-03, 8.59596277e-04, 1.78273449e-01,\n",
       "       1.61607128e-03, 5.58383979e-02, 1.12233168e-01, 1.67999731e-03])"
      ]
     },
     "execution_count": 34,
     "metadata": {},
     "output_type": "execute_result"
    }
   ],
   "source": [
    "predictions = model_128.predict_proba(features_scaled)\n",
    "predictions"
   ]
  },
  {
   "cell_type": "code",
   "execution_count": 35,
   "metadata": {
    "execution": {
     "iopub.execute_input": "2025-08-08T08:40:54.289987Z",
     "iopub.status.busy": "2025-08-08T08:40:54.289428Z",
     "iopub.status.idle": "2025-08-08T08:40:54.298402Z",
     "shell.execute_reply": "2025-08-08T08:40:54.297671Z",
     "shell.execute_reply.started": "2025-08-08T08:40:54.289958Z"
    },
    "trusted": true
   },
   "outputs": [
    {
     "data": {
      "text/html": [
       "<div>\n",
       "<style scoped>\n",
       "    .dataframe tbody tr th:only-of-type {\n",
       "        vertical-align: middle;\n",
       "    }\n",
       "\n",
       "    .dataframe tbody tr th {\n",
       "        vertical-align: top;\n",
       "    }\n",
       "\n",
       "    .dataframe thead th {\n",
       "        text-align: right;\n",
       "    }\n",
       "</style>\n",
       "<table border=\"1\" class=\"dataframe\">\n",
       "  <thead>\n",
       "    <tr style=\"text-align: right;\">\n",
       "      <th></th>\n",
       "      <th>message_id</th>\n",
       "      <th>Calories</th>\n",
       "    </tr>\n",
       "  </thead>\n",
       "  <tbody>\n",
       "    <tr>\n",
       "      <th>0</th>\n",
       "      <td>20000</td>\n",
       "      <td>0.001087</td>\n",
       "    </tr>\n",
       "    <tr>\n",
       "      <th>1</th>\n",
       "      <td>20001</td>\n",
       "      <td>0.000322</td>\n",
       "    </tr>\n",
       "    <tr>\n",
       "      <th>2</th>\n",
       "      <td>20002</td>\n",
       "      <td>0.000548</td>\n",
       "    </tr>\n",
       "    <tr>\n",
       "      <th>3</th>\n",
       "      <td>20003</td>\n",
       "      <td>0.000261</td>\n",
       "    </tr>\n",
       "    <tr>\n",
       "      <th>4</th>\n",
       "      <td>20004</td>\n",
       "      <td>0.764395</td>\n",
       "    </tr>\n",
       "  </tbody>\n",
       "</table>\n",
       "</div>"
      ],
      "text/plain": [
       "   message_id  Calories\n",
       "0       20000  0.001087\n",
       "1       20001  0.000322\n",
       "2       20002  0.000548\n",
       "3       20003  0.000261\n",
       "4       20004  0.764395"
      ]
     },
     "execution_count": 35,
     "metadata": {},
     "output_type": "execute_result"
    }
   ],
   "source": [
    "submission = pd.DataFrame({\n",
    "    'message_id': ids,\n",
    "    'Calories': predictions\n",
    "})\n",
    "submission.head()"
   ]
  },
  {
   "cell_type": "code",
   "execution_count": 36,
   "metadata": {
    "execution": {
     "iopub.execute_input": "2025-08-08T08:41:02.306202Z",
     "iopub.status.busy": "2025-08-08T08:41:02.305869Z",
     "iopub.status.idle": "2025-08-08T08:41:02.321092Z",
     "shell.execute_reply": "2025-08-08T08:41:02.320162Z",
     "shell.execute_reply.started": "2025-08-08T08:41:02.306176Z"
    },
    "trusted": true
   },
   "outputs": [],
   "source": [
    "submission.to_csv('submission.csv', index=False)"
   ]
  },
  {
   "cell_type": "code",
   "execution_count": null,
   "metadata": {
    "trusted": true
   },
   "outputs": [],
   "source": []
  }
 ],
 "metadata": {
  "kaggle": {
   "accelerator": "none",
   "dataSources": [
    {
     "databundleVersionId": 13267583,
     "sourceId": 111472,
     "sourceType": "competition"
    }
   ],
   "dockerImageVersionId": 31089,
   "isGpuEnabled": false,
   "isInternetEnabled": true,
   "language": "python",
   "sourceType": "notebook"
  },
  "kernelspec": {
   "display_name": "Python 3",
   "language": "python",
   "name": "python3"
  },
  "language_info": {
   "codemirror_mode": {
    "name": "ipython",
    "version": 3
   },
   "file_extension": ".py",
   "mimetype": "text/x-python",
   "name": "python",
   "nbconvert_exporter": "python",
   "pygments_lexer": "ipython3",
   "version": "3.11.13"
  }
 },
 "nbformat": 4,
 "nbformat_minor": 4
}
